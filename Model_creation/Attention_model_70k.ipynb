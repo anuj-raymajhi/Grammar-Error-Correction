{
  "nbformat": 4,
  "nbformat_minor": 0,
  "metadata": {
    "colab": {
      "provenance": []
    },
    "kernelspec": {
      "name": "python3",
      "display_name": "Python 3"
    },
    "language_info": {
      "name": "python"
    },
    "accelerator": "GPU",
    "gpuClass": "standard"
  },
  "cells": [
    {
      "cell_type": "code",
      "execution_count": null,
      "metadata": {
        "colab": {
          "base_uri": "https://localhost:8080/"
        },
        "id": "fBrv5PlxrAGh",
        "outputId": "7534b2c3-ff6e-4db1-f9bf-c9df8044e51d"
      },
      "outputs": [
        {
          "output_type": "stream",
          "name": "stdout",
          "text": [
            "Drive already mounted at /content/drive; to attempt to forcibly remount, call drive.mount(\"/content/drive\", force_remount=True).\n"
          ]
        }
      ],
      "source": [
        "from google.colab import drive\n",
        "drive.mount('/content/drive')"
      ]
    },
    {
      "cell_type": "code",
      "source": [
        "import pandas as pd\n",
        "import numpy as np\n",
        "from tensorflow import keras\n",
        "from tensorflow.keras.preprocessing.text import Tokenizer\n",
        "from tensorflow.keras.preprocessing.sequence import pad_sequences\n",
        "from tensorflow.keras.layers import Input, LSTM, Embedding, TimeDistributed, Dense, Concatenate, dot, Activation\n",
        "from tensorflow.keras.models import Model, load_model\n",
        "from keras.utils.vis_utils import plot_model\n",
        "import pickle"
      ],
      "metadata": {
        "id": "mH0qbG1ArJkV"
      },
      "execution_count": null,
      "outputs": []
    },
    {
      "cell_type": "code",
      "source": [
        "\n",
        "df_source = pd.read_csv('/content/drive/MyDrive/Colab Notebooks/Datasets/whole_data.csv', dtype = 'string')\n",
        "# df_source = df_source.dropna()"
      ],
      "metadata": {
        "id": "4U8ywq4Ps6hG"
      },
      "execution_count": null,
      "outputs": []
    },
    {
      "cell_type": "code",
      "source": [
        "df = pd.read_csv(\"/content/drive/MyDrive/Colab Notebooks/Datasets/eval_total_dataset.csv\", dtype=str)"
      ],
      "metadata": {
        "id": "oeDfdgH6e27x"
      },
      "execution_count": null,
      "outputs": []
    },
    {
      "cell_type": "code",
      "source": [],
      "metadata": {
        "id": "h-GUY1q72urq"
      },
      "execution_count": null,
      "outputs": []
    },
    {
      "cell_type": "code",
      "source": [
        "df_source.info()"
      ],
      "metadata": {
        "colab": {
          "base_uri": "https://localhost:8080/"
        },
        "id": "cUWOvj_rtEqn",
        "outputId": "be8da036-1bdf-4831-924a-55d215d0623a"
      },
      "execution_count": null,
      "outputs": [
        {
          "output_type": "stream",
          "name": "stdout",
          "text": [
            "<class 'pandas.core.frame.DataFrame'>\n",
            "RangeIndex: 496295 entries, 0 to 496294\n",
            "Data columns (total 4 columns):\n",
            " #   Column          Non-Null Count   Dtype \n",
            "---  ------          --------------   ----- \n",
            " 0   correct         496295 non-null  string\n",
            " 1   incorrect       496295 non-null  string\n",
            " 2   correct_input   496295 non-null  string\n",
            " 3   correct_output  496295 non-null  string\n",
            "dtypes: string(4)\n",
            "memory usage: 15.1 MB\n"
          ]
        }
      ]
    },
    {
      "cell_type": "code",
      "source": [
        "df_source.drop('Unnamed: 0', axis = 1)"
      ],
      "metadata": {
        "colab": {
          "base_uri": "https://localhost:8080/",
          "height": 311
        },
        "id": "cL8M-dzutHkp",
        "outputId": "5d826017-7726-4c41-dc6b-3fa2c07286b1"
      },
      "execution_count": null,
      "outputs": [
        {
          "output_type": "error",
          "ename": "KeyError",
          "evalue": "ignored",
          "traceback": [
            "\u001b[0;31m---------------------------------------------------------------------------\u001b[0m",
            "\u001b[0;31mKeyError\u001b[0m                                  Traceback (most recent call last)",
            "\u001b[0;32m<ipython-input-6-e131e2a0e546>\u001b[0m in \u001b[0;36m<module>\u001b[0;34m\u001b[0m\n\u001b[0;32m----> 1\u001b[0;31m \u001b[0mdf_source\u001b[0m\u001b[0;34m.\u001b[0m\u001b[0mdrop\u001b[0m\u001b[0;34m(\u001b[0m\u001b[0;34m'Unnamed: 0'\u001b[0m\u001b[0;34m,\u001b[0m \u001b[0maxis\u001b[0m \u001b[0;34m=\u001b[0m \u001b[0;36m1\u001b[0m\u001b[0;34m)\u001b[0m\u001b[0;34m\u001b[0m\u001b[0;34m\u001b[0m\u001b[0m\n\u001b[0m",
            "\u001b[0;32m/usr/local/lib/python3.8/dist-packages/pandas/util/_decorators.py\u001b[0m in \u001b[0;36mwrapper\u001b[0;34m(*args, **kwargs)\u001b[0m\n\u001b[1;32m    309\u001b[0m                     \u001b[0mstacklevel\u001b[0m\u001b[0;34m=\u001b[0m\u001b[0mstacklevel\u001b[0m\u001b[0;34m,\u001b[0m\u001b[0;34m\u001b[0m\u001b[0;34m\u001b[0m\u001b[0m\n\u001b[1;32m    310\u001b[0m                 )\n\u001b[0;32m--> 311\u001b[0;31m             \u001b[0;32mreturn\u001b[0m \u001b[0mfunc\u001b[0m\u001b[0;34m(\u001b[0m\u001b[0;34m*\u001b[0m\u001b[0margs\u001b[0m\u001b[0;34m,\u001b[0m \u001b[0;34m**\u001b[0m\u001b[0mkwargs\u001b[0m\u001b[0;34m)\u001b[0m\u001b[0;34m\u001b[0m\u001b[0;34m\u001b[0m\u001b[0m\n\u001b[0m\u001b[1;32m    312\u001b[0m \u001b[0;34m\u001b[0m\u001b[0m\n\u001b[1;32m    313\u001b[0m         \u001b[0;32mreturn\u001b[0m \u001b[0mwrapper\u001b[0m\u001b[0;34m\u001b[0m\u001b[0;34m\u001b[0m\u001b[0m\n",
            "\u001b[0;32m/usr/local/lib/python3.8/dist-packages/pandas/core/frame.py\u001b[0m in \u001b[0;36mdrop\u001b[0;34m(self, labels, axis, index, columns, level, inplace, errors)\u001b[0m\n\u001b[1;32m   4904\u001b[0m                 \u001b[0mweight\u001b[0m  \u001b[0;36m1.0\u001b[0m     \u001b[0;36m0.8\u001b[0m\u001b[0;34m\u001b[0m\u001b[0;34m\u001b[0m\u001b[0m\n\u001b[1;32m   4905\u001b[0m         \"\"\"\n\u001b[0;32m-> 4906\u001b[0;31m         return super().drop(\n\u001b[0m\u001b[1;32m   4907\u001b[0m             \u001b[0mlabels\u001b[0m\u001b[0;34m=\u001b[0m\u001b[0mlabels\u001b[0m\u001b[0;34m,\u001b[0m\u001b[0;34m\u001b[0m\u001b[0;34m\u001b[0m\u001b[0m\n\u001b[1;32m   4908\u001b[0m             \u001b[0maxis\u001b[0m\u001b[0;34m=\u001b[0m\u001b[0maxis\u001b[0m\u001b[0;34m,\u001b[0m\u001b[0;34m\u001b[0m\u001b[0;34m\u001b[0m\u001b[0m\n",
            "\u001b[0;32m/usr/local/lib/python3.8/dist-packages/pandas/core/generic.py\u001b[0m in \u001b[0;36mdrop\u001b[0;34m(self, labels, axis, index, columns, level, inplace, errors)\u001b[0m\n\u001b[1;32m   4148\u001b[0m         \u001b[0;32mfor\u001b[0m \u001b[0maxis\u001b[0m\u001b[0;34m,\u001b[0m \u001b[0mlabels\u001b[0m \u001b[0;32min\u001b[0m \u001b[0maxes\u001b[0m\u001b[0;34m.\u001b[0m\u001b[0mitems\u001b[0m\u001b[0;34m(\u001b[0m\u001b[0;34m)\u001b[0m\u001b[0;34m:\u001b[0m\u001b[0;34m\u001b[0m\u001b[0;34m\u001b[0m\u001b[0m\n\u001b[1;32m   4149\u001b[0m             \u001b[0;32mif\u001b[0m \u001b[0mlabels\u001b[0m \u001b[0;32mis\u001b[0m \u001b[0;32mnot\u001b[0m \u001b[0;32mNone\u001b[0m\u001b[0;34m:\u001b[0m\u001b[0;34m\u001b[0m\u001b[0;34m\u001b[0m\u001b[0m\n\u001b[0;32m-> 4150\u001b[0;31m                 \u001b[0mobj\u001b[0m \u001b[0;34m=\u001b[0m \u001b[0mobj\u001b[0m\u001b[0;34m.\u001b[0m\u001b[0m_drop_axis\u001b[0m\u001b[0;34m(\u001b[0m\u001b[0mlabels\u001b[0m\u001b[0;34m,\u001b[0m \u001b[0maxis\u001b[0m\u001b[0;34m,\u001b[0m \u001b[0mlevel\u001b[0m\u001b[0;34m=\u001b[0m\u001b[0mlevel\u001b[0m\u001b[0;34m,\u001b[0m \u001b[0merrors\u001b[0m\u001b[0;34m=\u001b[0m\u001b[0merrors\u001b[0m\u001b[0;34m)\u001b[0m\u001b[0;34m\u001b[0m\u001b[0;34m\u001b[0m\u001b[0m\n\u001b[0m\u001b[1;32m   4151\u001b[0m \u001b[0;34m\u001b[0m\u001b[0m\n\u001b[1;32m   4152\u001b[0m         \u001b[0;32mif\u001b[0m \u001b[0minplace\u001b[0m\u001b[0;34m:\u001b[0m\u001b[0;34m\u001b[0m\u001b[0;34m\u001b[0m\u001b[0m\n",
            "\u001b[0;32m/usr/local/lib/python3.8/dist-packages/pandas/core/generic.py\u001b[0m in \u001b[0;36m_drop_axis\u001b[0;34m(self, labels, axis, level, errors)\u001b[0m\n\u001b[1;32m   4183\u001b[0m                 \u001b[0mnew_axis\u001b[0m \u001b[0;34m=\u001b[0m \u001b[0maxis\u001b[0m\u001b[0;34m.\u001b[0m\u001b[0mdrop\u001b[0m\u001b[0;34m(\u001b[0m\u001b[0mlabels\u001b[0m\u001b[0;34m,\u001b[0m \u001b[0mlevel\u001b[0m\u001b[0;34m=\u001b[0m\u001b[0mlevel\u001b[0m\u001b[0;34m,\u001b[0m \u001b[0merrors\u001b[0m\u001b[0;34m=\u001b[0m\u001b[0merrors\u001b[0m\u001b[0;34m)\u001b[0m\u001b[0;34m\u001b[0m\u001b[0;34m\u001b[0m\u001b[0m\n\u001b[1;32m   4184\u001b[0m             \u001b[0;32melse\u001b[0m\u001b[0;34m:\u001b[0m\u001b[0;34m\u001b[0m\u001b[0;34m\u001b[0m\u001b[0m\n\u001b[0;32m-> 4185\u001b[0;31m                 \u001b[0mnew_axis\u001b[0m \u001b[0;34m=\u001b[0m \u001b[0maxis\u001b[0m\u001b[0;34m.\u001b[0m\u001b[0mdrop\u001b[0m\u001b[0;34m(\u001b[0m\u001b[0mlabels\u001b[0m\u001b[0;34m,\u001b[0m \u001b[0merrors\u001b[0m\u001b[0;34m=\u001b[0m\u001b[0merrors\u001b[0m\u001b[0;34m)\u001b[0m\u001b[0;34m\u001b[0m\u001b[0;34m\u001b[0m\u001b[0m\n\u001b[0m\u001b[1;32m   4186\u001b[0m             \u001b[0mresult\u001b[0m \u001b[0;34m=\u001b[0m \u001b[0mself\u001b[0m\u001b[0;34m.\u001b[0m\u001b[0mreindex\u001b[0m\u001b[0;34m(\u001b[0m\u001b[0;34m**\u001b[0m\u001b[0;34m{\u001b[0m\u001b[0maxis_name\u001b[0m\u001b[0;34m:\u001b[0m \u001b[0mnew_axis\u001b[0m\u001b[0;34m}\u001b[0m\u001b[0;34m)\u001b[0m\u001b[0;34m\u001b[0m\u001b[0;34m\u001b[0m\u001b[0m\n\u001b[1;32m   4187\u001b[0m \u001b[0;34m\u001b[0m\u001b[0m\n",
            "\u001b[0;32m/usr/local/lib/python3.8/dist-packages/pandas/core/indexes/base.py\u001b[0m in \u001b[0;36mdrop\u001b[0;34m(self, labels, errors)\u001b[0m\n\u001b[1;32m   6015\u001b[0m         \u001b[0;32mif\u001b[0m \u001b[0mmask\u001b[0m\u001b[0;34m.\u001b[0m\u001b[0many\u001b[0m\u001b[0;34m(\u001b[0m\u001b[0;34m)\u001b[0m\u001b[0;34m:\u001b[0m\u001b[0;34m\u001b[0m\u001b[0;34m\u001b[0m\u001b[0m\n\u001b[1;32m   6016\u001b[0m             \u001b[0;32mif\u001b[0m \u001b[0merrors\u001b[0m \u001b[0;34m!=\u001b[0m \u001b[0;34m\"ignore\"\u001b[0m\u001b[0;34m:\u001b[0m\u001b[0;34m\u001b[0m\u001b[0;34m\u001b[0m\u001b[0m\n\u001b[0;32m-> 6017\u001b[0;31m                 \u001b[0;32mraise\u001b[0m \u001b[0mKeyError\u001b[0m\u001b[0;34m(\u001b[0m\u001b[0;34mf\"{labels[mask]} not found in axis\"\u001b[0m\u001b[0;34m)\u001b[0m\u001b[0;34m\u001b[0m\u001b[0;34m\u001b[0m\u001b[0m\n\u001b[0m\u001b[1;32m   6018\u001b[0m             \u001b[0mindexer\u001b[0m \u001b[0;34m=\u001b[0m \u001b[0mindexer\u001b[0m\u001b[0;34m[\u001b[0m\u001b[0;34m~\u001b[0m\u001b[0mmask\u001b[0m\u001b[0;34m]\u001b[0m\u001b[0;34m\u001b[0m\u001b[0;34m\u001b[0m\u001b[0m\n\u001b[1;32m   6019\u001b[0m         \u001b[0;32mreturn\u001b[0m \u001b[0mself\u001b[0m\u001b[0;34m.\u001b[0m\u001b[0mdelete\u001b[0m\u001b[0;34m(\u001b[0m\u001b[0mindexer\u001b[0m\u001b[0;34m)\u001b[0m\u001b[0;34m\u001b[0m\u001b[0;34m\u001b[0m\u001b[0m\n",
            "\u001b[0;31mKeyError\u001b[0m: \"['Unnamed: 0'] not found in axis\""
          ]
        }
      ]
    },
    {
      "cell_type": "code",
      "source": [
        "df_source"
      ],
      "metadata": {
        "id": "2wzjdiudtL31",
        "colab": {
          "base_uri": "https://localhost:8080/",
          "height": 423
        },
        "outputId": "1c7f435f-0b91-416d-9ec9-36a0f26431a8"
      },
      "execution_count": null,
      "outputs": [
        {
          "output_type": "execute_result",
          "data": {
            "text/plain": [
              "                                                   input  \\\n",
              "0      So I think we can not live if old people could...   \n",
              "1      So I think we can not live if old people could...   \n",
              "2      So I think we can not live if old people could...   \n",
              "3      So I think we can not live if old people could...   \n",
              "4                                     For not use car .    \n",
              "...                                                  ...   \n",
              "67640  I’m not keen on Ahley’s statement – it attempt...   \n",
              "67641  If all the service vendors provided the whom t...   \n",
              "67642                     How Features can I inspection?   \n",
              "67643  The trend towards American style proms turned ...   \n",
              "67644  You are fully in control – you can move or dis...   \n",
              "\n",
              "                                                  target  \n",
              "0      So I think we would not be alive if our ancest...  \n",
              "1      So I think we could not live if older people d...  \n",
              "2      So I think we can not live if old people could...  \n",
              "3      So I think we can not live if old people can n...  \n",
              "4                              Not for use with a car .   \n",
              "...                                                  ...  \n",
              "67640  I’m not keen on Ahley’s statement – it attempt...  \n",
              "67641  If all of the service vendors provided the typ...  \n",
              "67642                         What Features Will I Find?  \n",
              "67643  The trend towards American style proms has tur...  \n",
              "67644  You are fully in control – you can move in or ...  \n",
              "\n",
              "[67645 rows x 2 columns]"
            ],
            "text/html": [
              "\n",
              "  <div id=\"df-de9aecf4-edea-489b-a418-d4a1611514ba\">\n",
              "    <div class=\"colab-df-container\">\n",
              "      <div>\n",
              "<style scoped>\n",
              "    .dataframe tbody tr th:only-of-type {\n",
              "        vertical-align: middle;\n",
              "    }\n",
              "\n",
              "    .dataframe tbody tr th {\n",
              "        vertical-align: top;\n",
              "    }\n",
              "\n",
              "    .dataframe thead th {\n",
              "        text-align: right;\n",
              "    }\n",
              "</style>\n",
              "<table border=\"1\" class=\"dataframe\">\n",
              "  <thead>\n",
              "    <tr style=\"text-align: right;\">\n",
              "      <th></th>\n",
              "      <th>input</th>\n",
              "      <th>target</th>\n",
              "    </tr>\n",
              "  </thead>\n",
              "  <tbody>\n",
              "    <tr>\n",
              "      <th>0</th>\n",
              "      <td>So I think we can not live if old people could...</td>\n",
              "      <td>So I think we would not be alive if our ancest...</td>\n",
              "    </tr>\n",
              "    <tr>\n",
              "      <th>1</th>\n",
              "      <td>So I think we can not live if old people could...</td>\n",
              "      <td>So I think we could not live if older people d...</td>\n",
              "    </tr>\n",
              "    <tr>\n",
              "      <th>2</th>\n",
              "      <td>So I think we can not live if old people could...</td>\n",
              "      <td>So I think we can not live if old people could...</td>\n",
              "    </tr>\n",
              "    <tr>\n",
              "      <th>3</th>\n",
              "      <td>So I think we can not live if old people could...</td>\n",
              "      <td>So I think we can not live if old people can n...</td>\n",
              "    </tr>\n",
              "    <tr>\n",
              "      <th>4</th>\n",
              "      <td>For not use car .</td>\n",
              "      <td>Not for use with a car .</td>\n",
              "    </tr>\n",
              "    <tr>\n",
              "      <th>...</th>\n",
              "      <td>...</td>\n",
              "      <td>...</td>\n",
              "    </tr>\n",
              "    <tr>\n",
              "      <th>67640</th>\n",
              "      <td>I’m not keen on Ahley’s statement – it attempt...</td>\n",
              "      <td>I’m not keen on Ahley’s statement – it attempt...</td>\n",
              "    </tr>\n",
              "    <tr>\n",
              "      <th>67641</th>\n",
              "      <td>If all the service vendors provided the whom t...</td>\n",
              "      <td>If all of the service vendors provided the typ...</td>\n",
              "    </tr>\n",
              "    <tr>\n",
              "      <th>67642</th>\n",
              "      <td>How Features can I inspection?</td>\n",
              "      <td>What Features Will I Find?</td>\n",
              "    </tr>\n",
              "    <tr>\n",
              "      <th>67643</th>\n",
              "      <td>The trend towards American style proms turned ...</td>\n",
              "      <td>The trend towards American style proms has tur...</td>\n",
              "    </tr>\n",
              "    <tr>\n",
              "      <th>67644</th>\n",
              "      <td>You are fully in control – you can move or dis...</td>\n",
              "      <td>You are fully in control – you can move in or ...</td>\n",
              "    </tr>\n",
              "  </tbody>\n",
              "</table>\n",
              "<p>67645 rows × 2 columns</p>\n",
              "</div>\n",
              "      <button class=\"colab-df-convert\" onclick=\"convertToInteractive('df-de9aecf4-edea-489b-a418-d4a1611514ba')\"\n",
              "              title=\"Convert this dataframe to an interactive table.\"\n",
              "              style=\"display:none;\">\n",
              "        \n",
              "  <svg xmlns=\"http://www.w3.org/2000/svg\" height=\"24px\"viewBox=\"0 0 24 24\"\n",
              "       width=\"24px\">\n",
              "    <path d=\"M0 0h24v24H0V0z\" fill=\"none\"/>\n",
              "    <path d=\"M18.56 5.44l.94 2.06.94-2.06 2.06-.94-2.06-.94-.94-2.06-.94 2.06-2.06.94zm-11 1L8.5 8.5l.94-2.06 2.06-.94-2.06-.94L8.5 2.5l-.94 2.06-2.06.94zm10 10l.94 2.06.94-2.06 2.06-.94-2.06-.94-.94-2.06-.94 2.06-2.06.94z\"/><path d=\"M17.41 7.96l-1.37-1.37c-.4-.4-.92-.59-1.43-.59-.52 0-1.04.2-1.43.59L10.3 9.45l-7.72 7.72c-.78.78-.78 2.05 0 2.83L4 21.41c.39.39.9.59 1.41.59.51 0 1.02-.2 1.41-.59l7.78-7.78 2.81-2.81c.8-.78.8-2.07 0-2.86zM5.41 20L4 18.59l7.72-7.72 1.47 1.35L5.41 20z\"/>\n",
              "  </svg>\n",
              "      </button>\n",
              "      \n",
              "  <style>\n",
              "    .colab-df-container {\n",
              "      display:flex;\n",
              "      flex-wrap:wrap;\n",
              "      gap: 12px;\n",
              "    }\n",
              "\n",
              "    .colab-df-convert {\n",
              "      background-color: #E8F0FE;\n",
              "      border: none;\n",
              "      border-radius: 50%;\n",
              "      cursor: pointer;\n",
              "      display: none;\n",
              "      fill: #1967D2;\n",
              "      height: 32px;\n",
              "      padding: 0 0 0 0;\n",
              "      width: 32px;\n",
              "    }\n",
              "\n",
              "    .colab-df-convert:hover {\n",
              "      background-color: #E2EBFA;\n",
              "      box-shadow: 0px 1px 2px rgba(60, 64, 67, 0.3), 0px 1px 3px 1px rgba(60, 64, 67, 0.15);\n",
              "      fill: #174EA6;\n",
              "    }\n",
              "\n",
              "    [theme=dark] .colab-df-convert {\n",
              "      background-color: #3B4455;\n",
              "      fill: #D2E3FC;\n",
              "    }\n",
              "\n",
              "    [theme=dark] .colab-df-convert:hover {\n",
              "      background-color: #434B5C;\n",
              "      box-shadow: 0px 1px 3px 1px rgba(0, 0, 0, 0.15);\n",
              "      filter: drop-shadow(0px 1px 2px rgba(0, 0, 0, 0.3));\n",
              "      fill: #FFFFFF;\n",
              "    }\n",
              "  </style>\n",
              "\n",
              "      <script>\n",
              "        const buttonEl =\n",
              "          document.querySelector('#df-de9aecf4-edea-489b-a418-d4a1611514ba button.colab-df-convert');\n",
              "        buttonEl.style.display =\n",
              "          google.colab.kernel.accessAllowed ? 'block' : 'none';\n",
              "\n",
              "        async function convertToInteractive(key) {\n",
              "          const element = document.querySelector('#df-de9aecf4-edea-489b-a418-d4a1611514ba');\n",
              "          const dataTable =\n",
              "            await google.colab.kernel.invokeFunction('convertToInteractive',\n",
              "                                                     [key], {});\n",
              "          if (!dataTable) return;\n",
              "\n",
              "          const docLinkHtml = 'Like what you see? Visit the ' +\n",
              "            '<a target=\"_blank\" href=https://colab.research.google.com/notebooks/data_table.ipynb>data table notebook</a>'\n",
              "            + ' to learn more about interactive tables.';\n",
              "          element.innerHTML = '';\n",
              "          dataTable['output_type'] = 'display_data';\n",
              "          await google.colab.output.renderOutput(dataTable, element);\n",
              "          const docLink = document.createElement('div');\n",
              "          docLink.innerHTML = docLinkHtml;\n",
              "          element.appendChild(docLink);\n",
              "        }\n",
              "      </script>\n",
              "    </div>\n",
              "  </div>\n",
              "  "
            ]
          },
          "metadata": {},
          "execution_count": 20
        }
      ]
    },
    {
      "cell_type": "code",
      "source": [
        "df_source = df_source.rename(columns = {'input': 'incorrect', 'target':'correct'})"
      ],
      "metadata": {
        "id": "FNtLmG5je-rR"
      },
      "execution_count": null,
      "outputs": []
    },
    {
      "cell_type": "code",
      "source": [
        "df_source"
      ],
      "metadata": {
        "colab": {
          "base_uri": "https://localhost:8080/",
          "height": 641
        },
        "id": "Qzdvs84-jIIU",
        "outputId": "929b51d4-7da7-404a-c4f7-3e4d500bca11"
      },
      "execution_count": null,
      "outputs": [
        {
          "output_type": "execute_result",
          "data": {
            "text/plain": [
              "                                                  correct  \\\n",
              "0       And he took in my favorite subjects like soccer .   \n",
              "1       Actually , he was the one who let me know abou...   \n",
              "2            His Kanji ability is much better than mine .   \n",
              "3       We have known each other for only half a year ...   \n",
              "4       I heard a sentence last night when I was watch...   \n",
              "...                                                   ...   \n",
              "496290  I like Thai , because the pronunciation sounds...   \n",
              "496291  I ate kaomangai  rice with boiled chickin  , t...   \n",
              "496292  I think it is important to like coriander in o...   \n",
              "496293     I went to Umeda station for dating yesterday .   \n",
              "496294  she said she want to change the meeting time t...   \n",
              "\n",
              "                                                incorrect  \\\n",
              "0        And he took in my favorite subject like soccer .   \n",
              "1       Actually , who let me know about Lang   was him .   \n",
              "2            His Kanji's ability is much better than me .   \n",
              "3       We have known each other for only half a year ...   \n",
              "4       I heard a sentence last night when I watched TV .   \n",
              "...                                                   ...   \n",
              "496290  I like Thailand language , because that pronou...   \n",
              "496291  I ate kaomangai  rise with boild chikin  , tom...   \n",
              "496292  I think it is important thing to become to lik...   \n",
              "496293      Yesterday , I went to Umeda station to date .   \n",
              "496294  It said , she want to make the meeting time at...   \n",
              "\n",
              "                                            correct_input  \\\n",
              "0       <sos> And he took in my favorite subjects like...   \n",
              "1       <sos> Actually , he was the one who let me kno...   \n",
              "2       <sos> His Kanji ability is much better than mi...   \n",
              "3       <sos> We have known each other for only half a...   \n",
              "4       <sos> I heard a sentence last night when I was...   \n",
              "...                                                   ...   \n",
              "496290  <sos> I like Thai , because the pronunciation ...   \n",
              "496291  <sos> I ate kaomangai  rice with boiled chicki...   \n",
              "496292  <sos> I think it is important to like coriande...   \n",
              "496293  <sos> I went to Umeda station for dating yeste...   \n",
              "496294  <sos> she said she want to change the meeting ...   \n",
              "\n",
              "                                           correct_output  \n",
              "0       And he took in my favorite subjects like socce...  \n",
              "1       Actually , he was the one who let me know abou...  \n",
              "2       His Kanji ability is much better than mine . <...  \n",
              "3       We have known each other for only half a year ...  \n",
              "4       I heard a sentence last night when I was watch...  \n",
              "...                                                   ...  \n",
              "496290  I like Thai , because the pronunciation sounds...  \n",
              "496291  I ate kaomangai  rice with boiled chickin  , t...  \n",
              "496292  I think it is important to like coriander in o...  \n",
              "496293  I went to Umeda station for dating yesterday ....  \n",
              "496294  she said she want to change the meeting time t...  \n",
              "\n",
              "[496295 rows x 4 columns]"
            ],
            "text/html": [
              "\n",
              "  <div id=\"df-e9078100-9a52-4679-bc0b-2bc54eb574ac\">\n",
              "    <div class=\"colab-df-container\">\n",
              "      <div>\n",
              "<style scoped>\n",
              "    .dataframe tbody tr th:only-of-type {\n",
              "        vertical-align: middle;\n",
              "    }\n",
              "\n",
              "    .dataframe tbody tr th {\n",
              "        vertical-align: top;\n",
              "    }\n",
              "\n",
              "    .dataframe thead th {\n",
              "        text-align: right;\n",
              "    }\n",
              "</style>\n",
              "<table border=\"1\" class=\"dataframe\">\n",
              "  <thead>\n",
              "    <tr style=\"text-align: right;\">\n",
              "      <th></th>\n",
              "      <th>correct</th>\n",
              "      <th>incorrect</th>\n",
              "      <th>correct_input</th>\n",
              "      <th>correct_output</th>\n",
              "    </tr>\n",
              "  </thead>\n",
              "  <tbody>\n",
              "    <tr>\n",
              "      <th>0</th>\n",
              "      <td>And he took in my favorite subjects like soccer .</td>\n",
              "      <td>And he took in my favorite subject like soccer .</td>\n",
              "      <td>&lt;sos&gt; And he took in my favorite subjects like...</td>\n",
              "      <td>And he took in my favorite subjects like socce...</td>\n",
              "    </tr>\n",
              "    <tr>\n",
              "      <th>1</th>\n",
              "      <td>Actually , he was the one who let me know abou...</td>\n",
              "      <td>Actually , who let me know about Lang   was him .</td>\n",
              "      <td>&lt;sos&gt; Actually , he was the one who let me kno...</td>\n",
              "      <td>Actually , he was the one who let me know abou...</td>\n",
              "    </tr>\n",
              "    <tr>\n",
              "      <th>2</th>\n",
              "      <td>His Kanji ability is much better than mine .</td>\n",
              "      <td>His Kanji's ability is much better than me .</td>\n",
              "      <td>&lt;sos&gt; His Kanji ability is much better than mi...</td>\n",
              "      <td>His Kanji ability is much better than mine . &lt;...</td>\n",
              "    </tr>\n",
              "    <tr>\n",
              "      <th>3</th>\n",
              "      <td>We have known each other for only half a year ...</td>\n",
              "      <td>We have known each other for only half a year ...</td>\n",
              "      <td>&lt;sos&gt; We have known each other for only half a...</td>\n",
              "      <td>We have known each other for only half a year ...</td>\n",
              "    </tr>\n",
              "    <tr>\n",
              "      <th>4</th>\n",
              "      <td>I heard a sentence last night when I was watch...</td>\n",
              "      <td>I heard a sentence last night when I watched TV .</td>\n",
              "      <td>&lt;sos&gt; I heard a sentence last night when I was...</td>\n",
              "      <td>I heard a sentence last night when I was watch...</td>\n",
              "    </tr>\n",
              "    <tr>\n",
              "      <th>...</th>\n",
              "      <td>...</td>\n",
              "      <td>...</td>\n",
              "      <td>...</td>\n",
              "      <td>...</td>\n",
              "    </tr>\n",
              "    <tr>\n",
              "      <th>496290</th>\n",
              "      <td>I like Thai , because the pronunciation sounds...</td>\n",
              "      <td>I like Thailand language , because that pronou...</td>\n",
              "      <td>&lt;sos&gt; I like Thai , because the pronunciation ...</td>\n",
              "      <td>I like Thai , because the pronunciation sounds...</td>\n",
              "    </tr>\n",
              "    <tr>\n",
              "      <th>496291</th>\n",
              "      <td>I ate kaomangai  rice with boiled chickin  , t...</td>\n",
              "      <td>I ate kaomangai  rise with boild chikin  , tom...</td>\n",
              "      <td>&lt;sos&gt; I ate kaomangai  rice with boiled chicki...</td>\n",
              "      <td>I ate kaomangai  rice with boiled chickin  , t...</td>\n",
              "    </tr>\n",
              "    <tr>\n",
              "      <th>496292</th>\n",
              "      <td>I think it is important to like coriander in o...</td>\n",
              "      <td>I think it is important thing to become to lik...</td>\n",
              "      <td>&lt;sos&gt; I think it is important to like coriande...</td>\n",
              "      <td>I think it is important to like coriander in o...</td>\n",
              "    </tr>\n",
              "    <tr>\n",
              "      <th>496293</th>\n",
              "      <td>I went to Umeda station for dating yesterday .</td>\n",
              "      <td>Yesterday , I went to Umeda station to date .</td>\n",
              "      <td>&lt;sos&gt; I went to Umeda station for dating yeste...</td>\n",
              "      <td>I went to Umeda station for dating yesterday ....</td>\n",
              "    </tr>\n",
              "    <tr>\n",
              "      <th>496294</th>\n",
              "      <td>she said she want to change the meeting time t...</td>\n",
              "      <td>It said , she want to make the meeting time at...</td>\n",
              "      <td>&lt;sos&gt; she said she want to change the meeting ...</td>\n",
              "      <td>she said she want to change the meeting time t...</td>\n",
              "    </tr>\n",
              "  </tbody>\n",
              "</table>\n",
              "<p>496295 rows × 4 columns</p>\n",
              "</div>\n",
              "      <button class=\"colab-df-convert\" onclick=\"convertToInteractive('df-e9078100-9a52-4679-bc0b-2bc54eb574ac')\"\n",
              "              title=\"Convert this dataframe to an interactive table.\"\n",
              "              style=\"display:none;\">\n",
              "        \n",
              "  <svg xmlns=\"http://www.w3.org/2000/svg\" height=\"24px\"viewBox=\"0 0 24 24\"\n",
              "       width=\"24px\">\n",
              "    <path d=\"M0 0h24v24H0V0z\" fill=\"none\"/>\n",
              "    <path d=\"M18.56 5.44l.94 2.06.94-2.06 2.06-.94-2.06-.94-.94-2.06-.94 2.06-2.06.94zm-11 1L8.5 8.5l.94-2.06 2.06-.94-2.06-.94L8.5 2.5l-.94 2.06-2.06.94zm10 10l.94 2.06.94-2.06 2.06-.94-2.06-.94-.94-2.06-.94 2.06-2.06.94z\"/><path d=\"M17.41 7.96l-1.37-1.37c-.4-.4-.92-.59-1.43-.59-.52 0-1.04.2-1.43.59L10.3 9.45l-7.72 7.72c-.78.78-.78 2.05 0 2.83L4 21.41c.39.39.9.59 1.41.59.51 0 1.02-.2 1.41-.59l7.78-7.78 2.81-2.81c.8-.78.8-2.07 0-2.86zM5.41 20L4 18.59l7.72-7.72 1.47 1.35L5.41 20z\"/>\n",
              "  </svg>\n",
              "      </button>\n",
              "      \n",
              "  <style>\n",
              "    .colab-df-container {\n",
              "      display:flex;\n",
              "      flex-wrap:wrap;\n",
              "      gap: 12px;\n",
              "    }\n",
              "\n",
              "    .colab-df-convert {\n",
              "      background-color: #E8F0FE;\n",
              "      border: none;\n",
              "      border-radius: 50%;\n",
              "      cursor: pointer;\n",
              "      display: none;\n",
              "      fill: #1967D2;\n",
              "      height: 32px;\n",
              "      padding: 0 0 0 0;\n",
              "      width: 32px;\n",
              "    }\n",
              "\n",
              "    .colab-df-convert:hover {\n",
              "      background-color: #E2EBFA;\n",
              "      box-shadow: 0px 1px 2px rgba(60, 64, 67, 0.3), 0px 1px 3px 1px rgba(60, 64, 67, 0.15);\n",
              "      fill: #174EA6;\n",
              "    }\n",
              "\n",
              "    [theme=dark] .colab-df-convert {\n",
              "      background-color: #3B4455;\n",
              "      fill: #D2E3FC;\n",
              "    }\n",
              "\n",
              "    [theme=dark] .colab-df-convert:hover {\n",
              "      background-color: #434B5C;\n",
              "      box-shadow: 0px 1px 3px 1px rgba(0, 0, 0, 0.15);\n",
              "      filter: drop-shadow(0px 1px 2px rgba(0, 0, 0, 0.3));\n",
              "      fill: #FFFFFF;\n",
              "    }\n",
              "  </style>\n",
              "\n",
              "      <script>\n",
              "        const buttonEl =\n",
              "          document.querySelector('#df-e9078100-9a52-4679-bc0b-2bc54eb574ac button.colab-df-convert');\n",
              "        buttonEl.style.display =\n",
              "          google.colab.kernel.accessAllowed ? 'block' : 'none';\n",
              "\n",
              "        async function convertToInteractive(key) {\n",
              "          const element = document.querySelector('#df-e9078100-9a52-4679-bc0b-2bc54eb574ac');\n",
              "          const dataTable =\n",
              "            await google.colab.kernel.invokeFunction('convertToInteractive',\n",
              "                                                     [key], {});\n",
              "          if (!dataTable) return;\n",
              "\n",
              "          const docLinkHtml = 'Like what you see? Visit the ' +\n",
              "            '<a target=\"_blank\" href=https://colab.research.google.com/notebooks/data_table.ipynb>data table notebook</a>'\n",
              "            + ' to learn more about interactive tables.';\n",
              "          element.innerHTML = '';\n",
              "          dataTable['output_type'] = 'display_data';\n",
              "          await google.colab.output.renderOutput(dataTable, element);\n",
              "          const docLink = document.createElement('div');\n",
              "          docLink.innerHTML = docLinkHtml;\n",
              "          element.appendChild(docLink);\n",
              "        }\n",
              "      </script>\n",
              "    </div>\n",
              "  </div>\n",
              "  "
            ]
          },
          "metadata": {},
          "execution_count": 42
        }
      ]
    },
    {
      "cell_type": "code",
      "source": [
        "# from tensorflow.keras import mixed_precision\n",
        "# mixed_precision.set_global_policy('mixed_float16')"
      ],
      "metadata": {
        "id": "1BKwlxBaehMk"
      },
      "execution_count": null,
      "outputs": []
    },
    {
      "cell_type": "code",
      "source": [
        "tkn_all = Tokenizer(filters='', lower=False, split= ' ', oov_token = \"<OOV>\", char_level = False)\n",
        "tkn_all.fit_on_texts(df_source['incorrect'] + df_source['correct'])"
      ],
      "metadata": {
        "id": "eQiZBYu6tUAr"
      },
      "execution_count": null,
      "outputs": []
    },
    {
      "cell_type": "code",
      "source": [
        "\n",
        "start_token = '<sos>'\n",
        "stop_token = '<eos>'\n",
        "\n",
        "len(tkn_all.word_index)\n"
      ],
      "metadata": {
        "colab": {
          "base_uri": "https://localhost:8080/"
        },
        "id": "bNVp9w7JtWxW",
        "outputId": "99a6b150-dc40-4dbf-f21d-312a05d33338"
      },
      "execution_count": null,
      "outputs": [
        {
          "output_type": "execute_result",
          "data": {
            "text/plain": [
              "144142"
            ]
          },
          "metadata": {},
          "execution_count": 46
        }
      ]
    },
    {
      "cell_type": "code",
      "source": [
        "tkn_all.word_index = {word: index + 1 for index, word in enumerate(tkn_all.word_index)}\n",
        "tkn_all.word_index[start_token] = 144143\n",
        "tkn_all.word_index[stop_token] = 144144\n",
        "tkn_all.index_word[144143] = '<sos>'\n",
        "tkn_all.index_word[144144] = '<eos>'"
      ],
      "metadata": {
        "id": "-2pFTBgCtZNN"
      },
      "execution_count": null,
      "outputs": []
    },
    {
      "cell_type": "code",
      "source": [
        "st_token = tkn_all.word_index['<sos>']\n",
        "ed_token = tkn_all.word_index['<eos>']"
      ],
      "metadata": {
        "id": "lgpOk2AZtbjq"
      },
      "execution_count": null,
      "outputs": []
    },
    {
      "cell_type": "code",
      "source": [
        "tkn_all.index_word[1230]"
      ],
      "metadata": {
        "colab": {
          "base_uri": "https://localhost:8080/",
          "height": 35
        },
        "id": "0KMoV_GvlGLw",
        "outputId": "e7da2ad7-522d-44db-98d5-81763208f4e3"
      },
      "execution_count": null,
      "outputs": [
        {
          "output_type": "execute_result",
          "data": {
            "text/plain": [
              "'camera'"
            ],
            "application/vnd.google.colaboratory.intrinsic+json": {
              "type": "string"
            }
          },
          "metadata": {},
          "execution_count": 49
        }
      ]
    },
    {
      "cell_type": "code",
      "source": [
        "with open('tokenizer_jfleg_conll14.pickle', 'wb') as handle:\n",
        "    pickle.dump(tkn_all, handle, protocol=pickle.HIGHEST_PROTOCOL)"
      ],
      "metadata": {
        "id": "pMcf05u-hmF3"
      },
      "execution_count": null,
      "outputs": []
    },
    {
      "cell_type": "code",
      "source": [
        "def preprocessing_df_corr(df, col, mxlen):\n",
        "    seq = tkn_all.texts_to_sequences(start_token + \" \" + df[col]+ \" \"+ stop_token)\n",
        "    seq_padded = pad_sequences(seq, maxlen = mxlen, padding = 'post', truncating= 'post')\n",
        "    return seq_padded"
      ],
      "metadata": {
        "id": "fYISVVPJtf3g"
      },
      "execution_count": null,
      "outputs": []
    },
    {
      "cell_type": "code",
      "source": [
        "from sklearn.model_selection import train_test_split"
      ],
      "metadata": {
        "id": "JWbOfK3utilW"
      },
      "execution_count": null,
      "outputs": []
    },
    {
      "cell_type": "code",
      "source": [
        "train, test = train_test_split(df_source, test_size = 0.2, random_state = 200)"
      ],
      "metadata": {
        "id": "WX2y0WVstkel"
      },
      "execution_count": null,
      "outputs": []
    },
    {
      "cell_type": "code",
      "source": [
        "train.shape"
      ],
      "metadata": {
        "colab": {
          "base_uri": "https://localhost:8080/"
        },
        "id": "dftz2-IrhBJX",
        "outputId": "fa916461-cb28-4624-cdc0-59e35c4f13df"
      },
      "execution_count": null,
      "outputs": [
        {
          "output_type": "execute_result",
          "data": {
            "text/plain": [
              "(397036, 4)"
            ]
          },
          "metadata": {},
          "execution_count": 53
        }
      ]
    },
    {
      "cell_type": "code",
      "source": [
        "vocab_size = len(tkn_all.word_index) + 1"
      ],
      "metadata": {
        "id": "sf0M-XJptm8H"
      },
      "execution_count": null,
      "outputs": []
    },
    {
      "cell_type": "code",
      "source": [
        "inc_train_seq = preprocessing_df_corr(train,'incorrect', 32)\n",
        "inc_test_seq =preprocessing_df_corr(test,'incorrect', 32)\n",
        "# inc_cv_seq = preprocessing_df_corr(cv,'incorrect', 32)\n",
        "\n",
        "# corr_inp_train_seq = preprocessing_df(train,'correct_input', 32)\n",
        "# corr_inp_test_seq =preprocessing_df(test,'correct_input', 32)\n",
        "# corr_inp_cv_seq = preprocessing_df(cv,'correct_input', 32)\n",
        "\n",
        "# corr_out_train_seq = preprocessing_df(train,'correct_output', 32)\n",
        "# corr_out_test_seq =preprocessing_df(test,'correct_output', 32)\n",
        "# corr_out_cv_seq = preprocessing_df(cv,'correct_output', 32)\n",
        "\n",
        "# corr_train_seq = preprocessing_df(train,'correct', 32)\n",
        "# corr_test_seq = preprocessing_df(test,'correct', 32)\n",
        "# corr_cv_seq = preprocessing_df(cv,'correct', 32)\n",
        "\n",
        "corr_train_seq = preprocessing_df_corr(train,'correct', 32)\n",
        "corr_test_seq = preprocessing_df_corr(test,'correct', 32)\n",
        "# corr_cv_seq = preprocessing_df_corr(cv,'correct', 32)"
      ],
      "metadata": {
        "id": "1KYLe6lsto-i"
      },
      "execution_count": null,
      "outputs": []
    },
    {
      "cell_type": "code",
      "source": [
        "encoder_units = 32\n",
        "decoder_units = 32\n",
        "embedding_dim = 32"
      ],
      "metadata": {
        "id": "OYe0L5f1trPa"
      },
      "execution_count": null,
      "outputs": []
    },
    {
      "cell_type": "code",
      "source": [
        "# Define the encoder model\n",
        "encoder_inputs = Input(shape=(inc_train_seq.shape[1],))\n",
        "encoder_embedding = Embedding(vocab_size, embedding_dim, input_length=inc_train_seq.shape[1])(encoder_inputs)\n",
        "encoder = LSTM(encoder_units, return_sequences=True, return_state=True)\n",
        "encoder_outputs, state_h, state_c = encoder(encoder_embedding)\n",
        "encoder_states = [state_h, state_c]\n",
        "\n",
        "# Define the decoder model\n",
        "\n",
        "# decoder_embedding = Embedding(vocab_size, embedding_dim)\n",
        "# decoder_embedded = decoder_embedding(decoder_inputs)\n",
        "\n",
        "decoder = LSTM(decoder_units, return_sequences=True, return_state=True)\n",
        "decoder_outputs = decoder(encoder_embedding, initial_state=encoder_states)[0]\n",
        "\n",
        "# Attention Mechanism\n",
        "attention = dot([decoder_outputs, encoder_outputs], axes=[2, 2])\n",
        "attention = Activation('softmax', name='attention')(attention)\n",
        "\n",
        "context = dot([attention, encoder_outputs], axes=[2,1])\n",
        "decoder_combined_context = Concatenate()([context, decoder_outputs])\n",
        "\n",
        "# Dense layer for prediction\n",
        "outputs = TimeDistributed(Dense(vocab_size, activation='softmax'))(decoder_combined_context)\n",
        "\n",
        "model = Model(inputs=encoder_inputs, outputs=outputs)\n",
        "model.compile(optimizer='adam', loss='sparse_categorical_crossentropy', metrics=['accuracy'])"
      ],
      "metadata": {
        "id": "-LNmg6R8ttRJ"
      },
      "execution_count": null,
      "outputs": []
    },
    {
      "cell_type": "code",
      "source": [
        "model.summary()"
      ],
      "metadata": {
        "colab": {
          "base_uri": "https://localhost:8080/"
        },
        "id": "EHKjF70RQapC",
        "outputId": "f4f88585-8c12-4982-89cf-85e104ef407e"
      },
      "execution_count": null,
      "outputs": [
        {
          "output_type": "stream",
          "name": "stdout",
          "text": [
            "Model: \"model_1\"\n",
            "__________________________________________________________________________________________________\n",
            " Layer (type)                   Output Shape         Param #     Connected to                     \n",
            "==================================================================================================\n",
            " input_2 (InputLayer)           [(None, 32)]         0           []                               \n",
            "                                                                                                  \n",
            " embedding_1 (Embedding)        (None, 32, 32)       4612640     ['input_2[0][0]']                \n",
            "                                                                                                  \n",
            " lstm_2 (LSTM)                  [(None, 32, 32),     8320        ['embedding_1[0][0]']            \n",
            "                                 (None, 32),                                                      \n",
            "                                 (None, 32)]                                                      \n",
            "                                                                                                  \n",
            " lstm_3 (LSTM)                  [(None, 32, 32),     8320        ['embedding_1[0][0]',            \n",
            "                                 (None, 32),                      'lstm_2[0][1]',                 \n",
            "                                 (None, 32)]                      'lstm_2[0][2]']                 \n",
            "                                                                                                  \n",
            " dot_2 (Dot)                    (None, 32, 32)       0           ['lstm_3[0][0]',                 \n",
            "                                                                  'lstm_2[0][0]']                 \n",
            "                                                                                                  \n",
            " attention (Activation)         (None, 32, 32)       0           ['dot_2[0][0]']                  \n",
            "                                                                                                  \n",
            " dot_3 (Dot)                    (None, 32, 32)       0           ['attention[0][0]',              \n",
            "                                                                  'lstm_2[0][0]']                 \n",
            "                                                                                                  \n",
            " concatenate_1 (Concatenate)    (None, 32, 64)       0           ['dot_3[0][0]',                  \n",
            "                                                                  'lstm_3[0][0]']                 \n",
            "                                                                                                  \n",
            " time_distributed_1 (TimeDistri  (None, 32, 144145)  9369425     ['concatenate_1[0][0]']          \n",
            " buted)                                                                                           \n",
            "                                                                                                  \n",
            "==================================================================================================\n",
            "Total params: 13,998,705\n",
            "Trainable params: 13,998,705\n",
            "Non-trainable params: 0\n",
            "__________________________________________________________________________________________________\n"
          ]
        }
      ]
    },
    {
      "cell_type": "code",
      "source": [
        "for layer in model.layers:\n",
        "        print(\"Layer Name: \" + layer.name)\n",
        "        print(\"Type of layer: \" + layer.__class__.__name__)\n",
        "        print(\"Input dimesion: {}\".format(layer.input_shape[1:]))\n",
        "        print(\"Output dimesion: {}\".format(layer.output_shape[1:]))\n",
        "        print(\"Parameter Count: {}\".format( layer.count_params()))\n",
        "        try:\n",
        "            print(\"Activation : \" + layer.activation.__name__)\n",
        "            print(\" \")\n",
        "        except:\n",
        "            print(\" \")"
      ],
      "metadata": {
        "colab": {
          "base_uri": "https://localhost:8080/"
        },
        "id": "Y4VCMO_tQwUw",
        "outputId": "8ba0e55d-37cf-4050-d1e5-0fa3f4429245"
      },
      "execution_count": null,
      "outputs": [
        {
          "output_type": "stream",
          "name": "stdout",
          "text": [
            "Layer Name: input_2\n",
            "Type of layer: InputLayer\n",
            "Input dimesion: []\n",
            "Output dimesion: []\n",
            "Parameter Count: 0\n",
            " \n",
            "Layer Name: embedding_1\n",
            "Type of layer: Embedding\n",
            "Input dimesion: (32,)\n",
            "Output dimesion: (32, 32)\n",
            "Parameter Count: 4612640\n",
            " \n",
            "Layer Name: lstm_2\n",
            "Type of layer: LSTM\n",
            "Input dimesion: (32, 32)\n",
            "Output dimesion: [(None, 32), (None, 32)]\n",
            "Parameter Count: 8320\n",
            "Activation : tanh\n",
            " \n",
            "Layer Name: lstm_3\n",
            "Type of layer: LSTM\n",
            "Input dimesion: [(None, 32), (None, 32)]\n",
            "Output dimesion: [(None, 32), (None, 32)]\n",
            "Parameter Count: 8320\n",
            "Activation : tanh\n",
            " \n",
            "Layer Name: dot_2\n",
            "Type of layer: Dot\n",
            "Input dimesion: [(None, 32, 32)]\n",
            "Output dimesion: (32, 32)\n",
            "Parameter Count: 0\n",
            " \n",
            "Layer Name: attention\n",
            "Type of layer: Activation\n",
            "Input dimesion: (32, 32)\n",
            "Output dimesion: (32, 32)\n",
            "Parameter Count: 0\n",
            "Activation : softmax\n",
            " \n",
            "Layer Name: dot_3\n",
            "Type of layer: Dot\n",
            "Input dimesion: [(None, 32, 32)]\n",
            "Output dimesion: (32, 32)\n",
            "Parameter Count: 0\n",
            " \n",
            "Layer Name: concatenate_1\n",
            "Type of layer: Concatenate\n",
            "Input dimesion: [(None, 32, 32)]\n",
            "Output dimesion: (32, 64)\n",
            "Parameter Count: 0\n",
            " \n",
            "Layer Name: time_distributed_1\n",
            "Type of layer: TimeDistributed\n",
            "Input dimesion: (32, 64)\n",
            "Output dimesion: (32, 144145)\n",
            "Parameter Count: 9369425\n",
            " \n"
          ]
        }
      ]
    },
    {
      "cell_type": "code",
      "source": [
        "#Keras visualization\n",
        "import tensorflow as tf\n",
        "model_img_file = 'model.png'\n",
        "tf.keras.utils.plot_model(model, to_file=model_img_file, \n",
        "                          show_shapes=True, \n",
        "                          show_layer_activations=True, \n",
        "                          show_dtype=True,\n",
        "                          show_layer_names=True )"
      ],
      "metadata": {
        "colab": {
          "base_uri": "https://localhost:8080/",
          "height": 1000
        },
        "id": "Jm_bJ61oRWC2",
        "outputId": "51c03700-1854-42d1-9b0f-696e00274138"
      },
      "execution_count": null,
      "outputs": [
        {
          "output_type": "execute_result",
          "data": {
            "image/png": "[encoded data removed]",
            "text/plain": [
              "<IPython.core.display.Image object>"
            ]
          },
          "metadata": {},
          "execution_count": 60
        }
      ]
    },
    {
      "cell_type": "code",
      "source": [
        "%load_ext tensorboard"
      ],
      "metadata": {
        "id": "eUKa9kp23IZe"
      },
      "execution_count": null,
      "outputs": []
    },
    {
      "cell_type": "code",
      "source": [
        "import datetime\n",
        "import tensorflow as tf\n",
        "log_dir = \"logs/fit/\" + datetime.datetime.now().strftime(\"%Y%m%d-%H%M%S\")\n",
        "tensorboard_callback = tf.keras.callbacks.TensorBoard(log_dir=log_dir, histogram_freq=1)"
      ],
      "metadata": {
        "id": "Ahgast6-3So8"
      },
      "execution_count": null,
      "outputs": []
    },
    {
      "cell_type": "code",
      "source": [
        "from keras.callbacks import CSVLogger"
      ],
      "metadata": {
        "id": "hbQEBbpB_nX4"
      },
      "execution_count": null,
      "outputs": []
    },
    {
      "cell_type": "code",
      "source": [
        "log_csv = CSVLogger('logs.csv', separator=\",\", append=False)"
      ],
      "metadata": {
        "id": "iLpQMzxZARY4"
      },
      "execution_count": null,
      "outputs": []
    },
    {
      "cell_type": "code",
      "source": [
        "import re\n",
        "def correct_sentence(sentence):\n",
        "    sequence = tkn_all.texts_to_sequences([start_token + \" \" + sentence + \" \" + stop_token])\n",
        "    padded = pad_sequences(sequence, maxlen=inc_train_seq.shape[1], padding = 'post', truncating = 'post')\n",
        "    encoded = model.predict(padded)\n",
        "    y = np.argmax(encoded, axis = 2)\n",
        "    y = np.reshape(y, (1,32))\n",
        "    decoded = []\n",
        "    decoded_np = np.ndarray(32)\n",
        "    for i in range(encoded.shape[1]):\n",
        "        word_index = np.argmax(encoded[0, i, :])\n",
        "        decoded_np = np.append(decoded_np,word_index)\n",
        "        if word_index > 0:\n",
        "            decoded.append(tkn_all.index_word[word_index])\n",
        "            if word_index == tkn_all.word_index[stop_token]:\n",
        "                break\n",
        "        else:\n",
        "            decoded.append('<OOV>')\n",
        "    return ' '.join(decoded)\n",
        "\n",
        "\n",
        "def correctAllsentences(input_sentences, target_sentences):\n",
        "  target_value = target_sentences\n",
        "  value = []\n",
        "  for i in input_sentences:\n",
        "    sen = correct_sentence(i)\n",
        "    sen = sen.replace(\"<OOV>\" , \"\")\n",
        "    sen = sen.replace(\"<sos>\", \"\")\n",
        "    sen = sen.replace(\"<eos>\", \"\")\n",
        "    sen = re.sub(\" +\", \" \" , sen)\n",
        "    if sen[0] == \" \":\n",
        "      sen = sen[1:]\n",
        "    value.append(sen)\n",
        "  return value, target_value\n"
      ],
      "metadata": {
        "id": "fYKuiOdcKIj8"
      },
      "execution_count": null,
      "outputs": []
    },
    {
      "cell_type": "code",
      "source": [
        "candidate, references = correctAllsentences(df['input'][:10], df['target'][0:10])"
      ],
      "metadata": {
        "colab": {
          "base_uri": "https://localhost:8080/"
        },
        "id": "rdnYfZHKL8pN",
        "outputId": "6e575550-cdd7-4089-e49b-cd04de5d53ca"
      },
      "execution_count": null,
      "outputs": [
        {
          "output_type": "stream",
          "name": "stdout",
          "text": [
            "1/1 [==============================] - 0s 20ms/step\n",
            "1/1 [==============================] - 0s 19ms/step\n",
            "1/1 [==============================] - 0s 23ms/step\n",
            "1/1 [==============================] - 0s 21ms/step\n",
            "1/1 [==============================] - 0s 21ms/step\n",
            "1/1 [==============================] - 0s 19ms/step\n",
            "1/1 [==============================] - 0s 21ms/step\n",
            "1/1 [==============================] - 0s 19ms/step\n",
            "1/1 [==============================] - 0s 22ms/step\n",
            "1/1 [==============================] - 0s 20ms/step\n"
          ]
        }
      ]
    },
    {
      "cell_type": "code",
      "source": [
        "from nltk.translate.bleu_score import sentence_bleu \n",
        "def calculate_bleu(candidate, references):\n",
        "  bleu_score = []\n",
        "  for i in range(len(candidate)):\n",
        "      score = sentence_bleu(references, candidate, weights=(1,0,0,0))\n",
        "      bleu_score.append(score)\n",
        "  return bleu_score\n",
        "\n",
        "calculate_bleu(candidate, references)"
      ],
      "metadata": {
        "colab": {
          "base_uri": "https://localhost:8080/"
        },
        "id": "HNhR-753OHyF",
        "outputId": "bbac5f12-f23b-47e5-b253-bd9b8d5edd02"
      },
      "execution_count": null,
      "outputs": [
        {
          "output_type": "execute_result",
          "data": {
            "text/plain": [
              "[0.5, 0.5, 0.5, 0.5, 0.5, 0.5, 0.5, 0.5, 0.5, 0.5]"
            ]
          },
          "metadata": {},
          "execution_count": 39
        }
      ]
    },
    {
      "cell_type": "code",
      "source": [
        "import csv\n",
        "class CustomCallback(keras.callbacks.Callback):\n",
        "  def __init__(self, candidates=[], references=[]):\n",
        "    self.candidates, self.references = correctAllsentences(df['input'][:10], df['target'][0:10])\n",
        "    self.bleu_list = []\n",
        "    self.epoch_list = []\n",
        "  def on_epoch_end(self, epoch, logs=None):\n",
        "    keys = list(logs.keys())\n",
        "    bleu_score = calculate_bleu(self.candidates, self.references)\n",
        "    print(\"\\nThe bleu Score is  {} \".format(epoch), sum(bleu_score)/ len(bleu_score))\n",
        "    self.bleu_list.append(sum(bleu_score)/ len(bleu_score))\n",
        "    self.epoch_list.append(epoch)\n",
        "  def on_train_end(self, logs=None):\n",
        "    print(self.bleu_list)\n",
        "    print(self.epoch_list)\n",
        "    with open('data.csv', 'w', newline='') as file:\n",
        "      writer = csv.writer(file)\n",
        "      writer.writerow(['Epoch', 'Bleu'])\n",
        "\n",
        "      for i in range(len(self.epoch_list)):\n",
        "          writer.writerow([self.epoch_list, self.bleu_list])\n",
        "\n"
      ],
      "metadata": {
        "id": "8Fy_bGiAHfcp"
      },
      "execution_count": null,
      "outputs": []
    },
    {
      "cell_type": "code",
      "source": [
        "bleu_callback = CustomCallback(candidate, references)"
      ],
      "metadata": {
        "id": "_EwHrsa8RSPM"
      },
      "execution_count": null,
      "outputs": []
    },
    {
      "cell_type": "code",
      "source": [
        "history = model.fit(inc_train_seq, corr_train_seq, epochs=10, batch_size=4, verbose = 1, validation_split = 0.2,callbacks=[log_csv])"
      ],
      "metadata": {
        "colab": {
          "base_uri": "https://localhost:8080/",
          "height": 397
        },
        "id": "2D9vhAHJtway",
        "outputId": "36c4513c-f8b8-4fad-b348-369160b36aa4"
      },
      "execution_count": null,
      "outputs": [
        {
          "output_type": "stream",
          "name": "stdout",
          "text": [
            "Epoch 1/10\n",
            "    68/147092 [..............................] - ETA: 25:39:35 - loss: 13.9511 - accuracy: 0.3619"
          ]
        },
        {
          "output_type": "error",
          "ename": "KeyboardInterrupt",
          "evalue": "ignored",
          "traceback": [
            "\u001b[0;31m---------------------------------------------------------------------------\u001b[0m",
            "\u001b[0;31mKeyboardInterrupt\u001b[0m                         Traceback (most recent call last)",
            "\u001b[0;32m<ipython-input-21-9de0a7b745ff>\u001b[0m in \u001b[0;36m<module>\u001b[0;34m\u001b[0m\n\u001b[0;32m----> 1\u001b[0;31m \u001b[0mhistory\u001b[0m \u001b[0;34m=\u001b[0m \u001b[0mmodel\u001b[0m\u001b[0;34m.\u001b[0m\u001b[0mfit\u001b[0m\u001b[0;34m(\u001b[0m\u001b[0minc_train_seq\u001b[0m\u001b[0;34m,\u001b[0m \u001b[0mcorr_train_seq\u001b[0m\u001b[0;34m,\u001b[0m \u001b[0mepochs\u001b[0m\u001b[0;34m=\u001b[0m\u001b[0;36m10\u001b[0m\u001b[0;34m,\u001b[0m \u001b[0mbatch_size\u001b[0m\u001b[0;34m=\u001b[0m\u001b[0;36m4\u001b[0m\u001b[0;34m,\u001b[0m \u001b[0mverbose\u001b[0m \u001b[0;34m=\u001b[0m \u001b[0;36m1\u001b[0m\u001b[0;34m,\u001b[0m \u001b[0mvalidation_split\u001b[0m \u001b[0;34m=\u001b[0m \u001b[0;36m0.2\u001b[0m\u001b[0;34m,\u001b[0m\u001b[0mcallbacks\u001b[0m\u001b[0;34m=\u001b[0m\u001b[0;34m[\u001b[0m\u001b[0mlog_csv\u001b[0m\u001b[0;34m]\u001b[0m\u001b[0;34m)\u001b[0m\u001b[0;34m\u001b[0m\u001b[0;34m\u001b[0m\u001b[0m\n\u001b[0m",
            "\u001b[0;32m/usr/local/lib/python3.8/dist-packages/keras/utils/traceback_utils.py\u001b[0m in \u001b[0;36merror_handler\u001b[0;34m(*args, **kwargs)\u001b[0m\n\u001b[1;32m     63\u001b[0m         \u001b[0mfiltered_tb\u001b[0m \u001b[0;34m=\u001b[0m \u001b[0;32mNone\u001b[0m\u001b[0;34m\u001b[0m\u001b[0;34m\u001b[0m\u001b[0m\n\u001b[1;32m     64\u001b[0m         \u001b[0;32mtry\u001b[0m\u001b[0;34m:\u001b[0m\u001b[0;34m\u001b[0m\u001b[0;34m\u001b[0m\u001b[0m\n\u001b[0;32m---> 65\u001b[0;31m             \u001b[0;32mreturn\u001b[0m \u001b[0mfn\u001b[0m\u001b[0;34m(\u001b[0m\u001b[0;34m*\u001b[0m\u001b[0margs\u001b[0m\u001b[0;34m,\u001b[0m \u001b[0;34m**\u001b[0m\u001b[0mkwargs\u001b[0m\u001b[0;34m)\u001b[0m\u001b[0;34m\u001b[0m\u001b[0;34m\u001b[0m\u001b[0m\n\u001b[0m\u001b[1;32m     66\u001b[0m         \u001b[0;32mexcept\u001b[0m \u001b[0mException\u001b[0m \u001b[0;32mas\u001b[0m \u001b[0me\u001b[0m\u001b[0;34m:\u001b[0m\u001b[0;34m\u001b[0m\u001b[0;34m\u001b[0m\u001b[0m\n\u001b[1;32m     67\u001b[0m             \u001b[0mfiltered_tb\u001b[0m \u001b[0;34m=\u001b[0m \u001b[0m_process_traceback_frames\u001b[0m\u001b[0;34m(\u001b[0m\u001b[0me\u001b[0m\u001b[0;34m.\u001b[0m\u001b[0m__traceback__\u001b[0m\u001b[0;34m)\u001b[0m\u001b[0;34m\u001b[0m\u001b[0;34m\u001b[0m\u001b[0m\n",
            "\u001b[0;32m/usr/local/lib/python3.8/dist-packages/keras/engine/training.py\u001b[0m in \u001b[0;36mfit\u001b[0;34m(self, x, y, batch_size, epochs, verbose, callbacks, validation_split, validation_data, shuffle, class_weight, sample_weight, initial_epoch, steps_per_epoch, validation_steps, validation_batch_size, validation_freq, max_queue_size, workers, use_multiprocessing)\u001b[0m\n\u001b[1;32m   1648\u001b[0m                         ):\n\u001b[1;32m   1649\u001b[0m                             \u001b[0mcallbacks\u001b[0m\u001b[0;34m.\u001b[0m\u001b[0mon_train_batch_begin\u001b[0m\u001b[0;34m(\u001b[0m\u001b[0mstep\u001b[0m\u001b[0;34m)\u001b[0m\u001b[0;34m\u001b[0m\u001b[0;34m\u001b[0m\u001b[0m\n\u001b[0;32m-> 1650\u001b[0;31m                             \u001b[0mtmp_logs\u001b[0m \u001b[0;34m=\u001b[0m \u001b[0mself\u001b[0m\u001b[0;34m.\u001b[0m\u001b[0mtrain_function\u001b[0m\u001b[0;34m(\u001b[0m\u001b[0miterator\u001b[0m\u001b[0;34m)\u001b[0m\u001b[0;34m\u001b[0m\u001b[0;34m\u001b[0m\u001b[0m\n\u001b[0m\u001b[1;32m   1651\u001b[0m                             \u001b[0;32mif\u001b[0m \u001b[0mdata_handler\u001b[0m\u001b[0;34m.\u001b[0m\u001b[0mshould_sync\u001b[0m\u001b[0;34m:\u001b[0m\u001b[0;34m\u001b[0m\u001b[0;34m\u001b[0m\u001b[0m\n\u001b[1;32m   1652\u001b[0m                                 \u001b[0mcontext\u001b[0m\u001b[0;34m.\u001b[0m\u001b[0masync_wait\u001b[0m\u001b[0;34m(\u001b[0m\u001b[0;34m)\u001b[0m\u001b[0;34m\u001b[0m\u001b[0;34m\u001b[0m\u001b[0m\n",
            "\u001b[0;32m/usr/local/lib/python3.8/dist-packages/tensorflow/python/util/traceback_utils.py\u001b[0m in \u001b[0;36merror_handler\u001b[0;34m(*args, **kwargs)\u001b[0m\n\u001b[1;32m    148\u001b[0m     \u001b[0mfiltered_tb\u001b[0m \u001b[0;34m=\u001b[0m \u001b[0;32mNone\u001b[0m\u001b[0;34m\u001b[0m\u001b[0;34m\u001b[0m\u001b[0m\n\u001b[1;32m    149\u001b[0m     \u001b[0;32mtry\u001b[0m\u001b[0;34m:\u001b[0m\u001b[0;34m\u001b[0m\u001b[0;34m\u001b[0m\u001b[0m\n\u001b[0;32m--> 150\u001b[0;31m       \u001b[0;32mreturn\u001b[0m \u001b[0mfn\u001b[0m\u001b[0;34m(\u001b[0m\u001b[0;34m*\u001b[0m\u001b[0margs\u001b[0m\u001b[0;34m,\u001b[0m \u001b[0;34m**\u001b[0m\u001b[0mkwargs\u001b[0m\u001b[0;34m)\u001b[0m\u001b[0;34m\u001b[0m\u001b[0;34m\u001b[0m\u001b[0m\n\u001b[0m\u001b[1;32m    151\u001b[0m     \u001b[0;32mexcept\u001b[0m \u001b[0mException\u001b[0m \u001b[0;32mas\u001b[0m \u001b[0me\u001b[0m\u001b[0;34m:\u001b[0m\u001b[0;34m\u001b[0m\u001b[0;34m\u001b[0m\u001b[0m\n\u001b[1;32m    152\u001b[0m       \u001b[0mfiltered_tb\u001b[0m \u001b[0;34m=\u001b[0m \u001b[0m_process_traceback_frames\u001b[0m\u001b[0;34m(\u001b[0m\u001b[0me\u001b[0m\u001b[0;34m.\u001b[0m\u001b[0m__traceback__\u001b[0m\u001b[0;34m)\u001b[0m\u001b[0;34m\u001b[0m\u001b[0;34m\u001b[0m\u001b[0m\n",
            "\u001b[0;32m/usr/local/lib/python3.8/dist-packages/tensorflow/python/eager/polymorphic_function/polymorphic_function.py\u001b[0m in \u001b[0;36m__call__\u001b[0;34m(self, *args, **kwds)\u001b[0m\n\u001b[1;32m    878\u001b[0m \u001b[0;34m\u001b[0m\u001b[0m\n\u001b[1;32m    879\u001b[0m       \u001b[0;32mwith\u001b[0m \u001b[0mOptionalXlaContext\u001b[0m\u001b[0;34m(\u001b[0m\u001b[0mself\u001b[0m\u001b[0;34m.\u001b[0m\u001b[0m_jit_compile\u001b[0m\u001b[0;34m)\u001b[0m\u001b[0;34m:\u001b[0m\u001b[0;34m\u001b[0m\u001b[0;34m\u001b[0m\u001b[0m\n\u001b[0;32m--> 880\u001b[0;31m         \u001b[0mresult\u001b[0m \u001b[0;34m=\u001b[0m \u001b[0mself\u001b[0m\u001b[0;34m.\u001b[0m\u001b[0m_call\u001b[0m\u001b[0;34m(\u001b[0m\u001b[0;34m*\u001b[0m\u001b[0margs\u001b[0m\u001b[0;34m,\u001b[0m \u001b[0;34m**\u001b[0m\u001b[0mkwds\u001b[0m\u001b[0;34m)\u001b[0m\u001b[0;34m\u001b[0m\u001b[0;34m\u001b[0m\u001b[0m\n\u001b[0m\u001b[1;32m    881\u001b[0m \u001b[0;34m\u001b[0m\u001b[0m\n\u001b[1;32m    882\u001b[0m       \u001b[0mnew_tracing_count\u001b[0m \u001b[0;34m=\u001b[0m \u001b[0mself\u001b[0m\u001b[0;34m.\u001b[0m\u001b[0mexperimental_get_tracing_count\u001b[0m\u001b[0;34m(\u001b[0m\u001b[0;34m)\u001b[0m\u001b[0;34m\u001b[0m\u001b[0;34m\u001b[0m\u001b[0m\n",
            "\u001b[0;32m/usr/local/lib/python3.8/dist-packages/tensorflow/python/eager/polymorphic_function/polymorphic_function.py\u001b[0m in \u001b[0;36m_call\u001b[0;34m(self, *args, **kwds)\u001b[0m\n\u001b[1;32m    910\u001b[0m       \u001b[0;31m# In this case we have created variables on the first call, so we run the\u001b[0m\u001b[0;34m\u001b[0m\u001b[0;34m\u001b[0m\u001b[0;34m\u001b[0m\u001b[0m\n\u001b[1;32m    911\u001b[0m       \u001b[0;31m# defunned version which is guaranteed to never create variables.\u001b[0m\u001b[0;34m\u001b[0m\u001b[0;34m\u001b[0m\u001b[0;34m\u001b[0m\u001b[0m\n\u001b[0;32m--> 912\u001b[0;31m       \u001b[0;32mreturn\u001b[0m \u001b[0mself\u001b[0m\u001b[0;34m.\u001b[0m\u001b[0m_no_variable_creation_fn\u001b[0m\u001b[0;34m(\u001b[0m\u001b[0;34m*\u001b[0m\u001b[0margs\u001b[0m\u001b[0;34m,\u001b[0m \u001b[0;34m**\u001b[0m\u001b[0mkwds\u001b[0m\u001b[0;34m)\u001b[0m  \u001b[0;31m# pylint: disable=not-callable\u001b[0m\u001b[0;34m\u001b[0m\u001b[0;34m\u001b[0m\u001b[0m\n\u001b[0m\u001b[1;32m    913\u001b[0m     \u001b[0;32melif\u001b[0m \u001b[0mself\u001b[0m\u001b[0;34m.\u001b[0m\u001b[0m_variable_creation_fn\u001b[0m \u001b[0;32mis\u001b[0m \u001b[0;32mnot\u001b[0m \u001b[0;32mNone\u001b[0m\u001b[0;34m:\u001b[0m\u001b[0;34m\u001b[0m\u001b[0;34m\u001b[0m\u001b[0m\n\u001b[1;32m    914\u001b[0m       \u001b[0;31m# Release the lock early so that multiple threads can perform the call\u001b[0m\u001b[0;34m\u001b[0m\u001b[0;34m\u001b[0m\u001b[0;34m\u001b[0m\u001b[0m\n",
            "\u001b[0;32m/usr/local/lib/python3.8/dist-packages/tensorflow/python/eager/polymorphic_function/tracing_compiler.py\u001b[0m in \u001b[0;36m__call__\u001b[0;34m(self, *args, **kwargs)\u001b[0m\n\u001b[1;32m    132\u001b[0m       (concrete_function,\n\u001b[1;32m    133\u001b[0m        filtered_flat_args) = self._maybe_define_function(args, kwargs)\n\u001b[0;32m--> 134\u001b[0;31m     return concrete_function._call_flat(\n\u001b[0m\u001b[1;32m    135\u001b[0m         filtered_flat_args, captured_inputs=concrete_function.captured_inputs)  # pylint: disable=protected-access\n\u001b[1;32m    136\u001b[0m \u001b[0;34m\u001b[0m\u001b[0m\n",
            "\u001b[0;32m/usr/local/lib/python3.8/dist-packages/tensorflow/python/eager/polymorphic_function/monomorphic_function.py\u001b[0m in \u001b[0;36m_call_flat\u001b[0;34m(self, args, captured_inputs, cancellation_manager)\u001b[0m\n\u001b[1;32m   1743\u001b[0m         and executing_eagerly):\n\u001b[1;32m   1744\u001b[0m       \u001b[0;31m# No tape is watching; skip to running the function.\u001b[0m\u001b[0;34m\u001b[0m\u001b[0;34m\u001b[0m\u001b[0;34m\u001b[0m\u001b[0m\n\u001b[0;32m-> 1745\u001b[0;31m       return self._build_call_outputs(self._inference_function.call(\n\u001b[0m\u001b[1;32m   1746\u001b[0m           ctx, args, cancellation_manager=cancellation_manager))\n\u001b[1;32m   1747\u001b[0m     forward_backward = self._select_forward_and_backward_functions(\n",
            "\u001b[0;32m/usr/local/lib/python3.8/dist-packages/tensorflow/python/eager/polymorphic_function/monomorphic_function.py\u001b[0m in \u001b[0;36mcall\u001b[0;34m(self, ctx, args, cancellation_manager)\u001b[0m\n\u001b[1;32m    376\u001b[0m       \u001b[0;32mwith\u001b[0m \u001b[0m_InterpolateFunctionError\u001b[0m\u001b[0;34m(\u001b[0m\u001b[0mself\u001b[0m\u001b[0;34m)\u001b[0m\u001b[0;34m:\u001b[0m\u001b[0;34m\u001b[0m\u001b[0;34m\u001b[0m\u001b[0m\n\u001b[1;32m    377\u001b[0m         \u001b[0;32mif\u001b[0m \u001b[0mcancellation_manager\u001b[0m \u001b[0;32mis\u001b[0m \u001b[0;32mNone\u001b[0m\u001b[0;34m:\u001b[0m\u001b[0;34m\u001b[0m\u001b[0;34m\u001b[0m\u001b[0m\n\u001b[0;32m--> 378\u001b[0;31m           outputs = execute.execute(\n\u001b[0m\u001b[1;32m    379\u001b[0m               \u001b[0mstr\u001b[0m\u001b[0;34m(\u001b[0m\u001b[0mself\u001b[0m\u001b[0;34m.\u001b[0m\u001b[0msignature\u001b[0m\u001b[0;34m.\u001b[0m\u001b[0mname\u001b[0m\u001b[0;34m)\u001b[0m\u001b[0;34m,\u001b[0m\u001b[0;34m\u001b[0m\u001b[0;34m\u001b[0m\u001b[0m\n\u001b[1;32m    380\u001b[0m               \u001b[0mnum_outputs\u001b[0m\u001b[0;34m=\u001b[0m\u001b[0mself\u001b[0m\u001b[0;34m.\u001b[0m\u001b[0m_num_outputs\u001b[0m\u001b[0;34m,\u001b[0m\u001b[0;34m\u001b[0m\u001b[0;34m\u001b[0m\u001b[0m\n",
            "\u001b[0;32m/usr/local/lib/python3.8/dist-packages/tensorflow/python/eager/execute.py\u001b[0m in \u001b[0;36mquick_execute\u001b[0;34m(op_name, num_outputs, inputs, attrs, ctx, name)\u001b[0m\n\u001b[1;32m     50\u001b[0m   \u001b[0;32mtry\u001b[0m\u001b[0;34m:\u001b[0m\u001b[0;34m\u001b[0m\u001b[0;34m\u001b[0m\u001b[0m\n\u001b[1;32m     51\u001b[0m     \u001b[0mctx\u001b[0m\u001b[0;34m.\u001b[0m\u001b[0mensure_initialized\u001b[0m\u001b[0;34m(\u001b[0m\u001b[0;34m)\u001b[0m\u001b[0;34m\u001b[0m\u001b[0;34m\u001b[0m\u001b[0m\n\u001b[0;32m---> 52\u001b[0;31m     tensors = pywrap_tfe.TFE_Py_Execute(ctx._handle, device_name, op_name,\n\u001b[0m\u001b[1;32m     53\u001b[0m                                         inputs, attrs, num_outputs)\n\u001b[1;32m     54\u001b[0m   \u001b[0;32mexcept\u001b[0m \u001b[0mcore\u001b[0m\u001b[0;34m.\u001b[0m\u001b[0m_NotOkStatusException\u001b[0m \u001b[0;32mas\u001b[0m \u001b[0me\u001b[0m\u001b[0;34m:\u001b[0m\u001b[0;34m\u001b[0m\u001b[0;34m\u001b[0m\u001b[0m\n",
            "\u001b[0;31mKeyboardInterrupt\u001b[0m: "
          ]
        }
      ]
    },
    {
      "cell_type": "code",
      "source": [
        " #evaluate the model\n",
        "test_loss = model.evaluate(inc_test_seq, corr_test_seq, verbose = 0)\n",
        "\n",
        "# Extract accuracy from training history\n",
        "test_acc = history.history['val_accuracy'][-1]\n",
        "print(\"Test Accuracy:\", test_acc)\n",
        "print('Test Loss:', test_loss)"
      ],
      "metadata": {
        "id": "_3YurULht3RW"
      },
      "execution_count": null,
      "outputs": []
    },
    {
      "cell_type": "code",
      "source": [
        "import matplotlib.pyplot as plt"
      ],
      "metadata": {
        "id": "B703TQuZxCWY"
      },
      "execution_count": null,
      "outputs": []
    },
    {
      "cell_type": "code",
      "source": [
        "# Get training and test loss histories\n",
        "training_loss = history.history['loss']\n",
        "test_loss = history.history['val_loss']\n",
        "\n",
        "# Create count of the number of epochs\n",
        "epoch_count = range(1, len(training_loss) + 1)\n",
        "\n",
        "# Visualize loss history\n",
        "plt.plot(epoch_count, training_loss, 'r--')\n",
        "plt.plot(epoch_count, test_loss, 'b-')\n",
        "plt.legend(['Training Loss', 'Test Loss'])\n",
        "plt.xlabel('Epoch')\n",
        "plt.ylabel('Loss')\n",
        "plt.show();"
      ],
      "metadata": {
        "id": "QjwQQimOxFYv"
      },
      "execution_count": null,
      "outputs": []
    },
    {
      "cell_type": "code",
      "source": [
        "model.save('/content/drive/MyDrive/models/grammar_corrector_atten_25epo.h5')"
      ],
      "metadata": {
        "id": "2i9oP5L3xMsC"
      },
      "execution_count": null,
      "outputs": []
    }
  ]
}